{
  "cells": [
    {
      "cell_type": "markdown",
      "metadata": {
        "id": "view-in-github",
        "colab_type": "text"
      },
      "source": [
        "<a href=\"https://colab.research.google.com/github/Alagu-Sri-Sakthi/Sentiment_Analysis/blob/main/Sentiment_Analysis.ipynb\" target=\"_parent\"><img src=\"https://colab.research.google.com/assets/colab-badge.svg\" alt=\"Open In Colab\"/></a>"
      ]
    },
    {
      "cell_type": "code",
      "execution_count": 1,
      "id": "7300275c",
      "metadata": {
        "colab": {
          "base_uri": "https://localhost:8080/"
        },
        "id": "7300275c",
        "outputId": "f5155e24-6a6b-4a24-bbb4-ba4235d76a08"
      },
      "outputs": [
        {
          "output_type": "stream",
          "name": "stderr",
          "text": [
            "[nltk_data] Downloading package vader_lexicon to /root/nltk_data...\n",
            "[nltk_data]   Package vader_lexicon is already up-to-date!\n"
          ]
        }
      ],
      "source": [
        "# Importing the libraries\n",
        "import pandas as pd\n",
        "import numpy as np\n",
        "import seaborn as sns\n",
        "import matplotlib.pyplot as plt\n",
        "import nltk\n",
        "nltk.download('vader_lexicon')\n",
        "from nltk.sentiment.vader import SentimentIntensityAnalyzer \n",
        "sia = SentimentIntensityAnalyzer()"
      ]
    },
    {
      "cell_type": "code",
      "execution_count": 2,
      "id": "8966bdb8",
      "metadata": {
        "id": "8966bdb8"
      },
      "outputs": [],
      "source": [
        "from tensorflow.keras.preprocessing.text import Tokenizer\n",
        "from tensorflow.keras.preprocessing.sequence import pad_sequences\n",
        "from tensorflow.keras.models import Sequential\n",
        "from tensorflow.keras.layers import Dropout,Embedding,LSTM,Dense\n",
        "from tensorflow.keras.callbacks import ModelCheckpoint\n",
        "from tensorflow.keras.models import load_model\n",
        "import re"
      ]
    },
    {
      "cell_type": "code",
      "execution_count": 3,
      "id": "26077532",
      "metadata": {
        "id": "26077532"
      },
      "outputs": [],
      "source": [
        "df=pd.read_csv('/content/Kenjee.csv')"
      ]
    },
    {
      "cell_type": "code",
      "execution_count": 4,
      "id": "f2c0ca3e",
      "metadata": {
        "colab": {
          "base_uri": "https://localhost:8080/",
          "height": 424
        },
        "id": "f2c0ca3e",
        "outputId": "883e2c4f-22d9-4dd5-d90b-96c27f4df1d3"
      },
      "outputs": [
        {
          "output_type": "execute_result",
          "data": {
            "text/plain": [
              "                                                Comments  Reply_Count  \\\n",
              "0      Thanks for this video Ken.\\n\\nI decided to go ...            0   \n",
              "1      Hello ken jee!!! I'm doing a graduation on Com...            0   \n",
              "2      Thanks for this video, man. So useful. I'll me...            0   \n",
              "3      Great video!!! I started learning Python 8 mon...            0   \n",
              "4      Been watching hours of your material (and Tina...            0   \n",
              "...                                                  ...          ...   \n",
              "10235  Dear Ken,\\nMay I know how the input data with ...            1   \n",
              "10236  What's your prediction Ken for 2018 or at leas...            0   \n",
              "10237  Nice. I have some nice models for this doing v...            0   \n",
              "10238  Great video! Can you please post the github li...            0   \n",
              "10239  Hi Ken\\n\\nI've been researching about this. Wo...            6   \n",
              "\n",
              "       Like_Count    user_ID  \n",
              "0               0   user_981  \n",
              "1               0   user_213  \n",
              "2               0  user_1065  \n",
              "3               0  user_3391  \n",
              "4               0  user_2816  \n",
              "...           ...        ...  \n",
              "10235           0  user_5850  \n",
              "10236           0  user_2676  \n",
              "10237           0  user_4533  \n",
              "10238           0  user_3368  \n",
              "10239           2  user_5345  \n",
              "\n",
              "[10240 rows x 4 columns]"
            ],
            "text/html": [
              "\n",
              "  <div id=\"df-ec665c84-b75b-445e-ac49-c714cf9e0daf\">\n",
              "    <div class=\"colab-df-container\">\n",
              "      <div>\n",
              "<style scoped>\n",
              "    .dataframe tbody tr th:only-of-type {\n",
              "        vertical-align: middle;\n",
              "    }\n",
              "\n",
              "    .dataframe tbody tr th {\n",
              "        vertical-align: top;\n",
              "    }\n",
              "\n",
              "    .dataframe thead th {\n",
              "        text-align: right;\n",
              "    }\n",
              "</style>\n",
              "<table border=\"1\" class=\"dataframe\">\n",
              "  <thead>\n",
              "    <tr style=\"text-align: right;\">\n",
              "      <th></th>\n",
              "      <th>Comments</th>\n",
              "      <th>Reply_Count</th>\n",
              "      <th>Like_Count</th>\n",
              "      <th>user_ID</th>\n",
              "    </tr>\n",
              "  </thead>\n",
              "  <tbody>\n",
              "    <tr>\n",
              "      <th>0</th>\n",
              "      <td>Thanks for this video Ken.\\n\\nI decided to go ...</td>\n",
              "      <td>0</td>\n",
              "      <td>0</td>\n",
              "      <td>user_981</td>\n",
              "    </tr>\n",
              "    <tr>\n",
              "      <th>1</th>\n",
              "      <td>Hello ken jee!!! I'm doing a graduation on Com...</td>\n",
              "      <td>0</td>\n",
              "      <td>0</td>\n",
              "      <td>user_213</td>\n",
              "    </tr>\n",
              "    <tr>\n",
              "      <th>2</th>\n",
              "      <td>Thanks for this video, man. So useful. I'll me...</td>\n",
              "      <td>0</td>\n",
              "      <td>0</td>\n",
              "      <td>user_1065</td>\n",
              "    </tr>\n",
              "    <tr>\n",
              "      <th>3</th>\n",
              "      <td>Great video!!! I started learning Python 8 mon...</td>\n",
              "      <td>0</td>\n",
              "      <td>0</td>\n",
              "      <td>user_3391</td>\n",
              "    </tr>\n",
              "    <tr>\n",
              "      <th>4</th>\n",
              "      <td>Been watching hours of your material (and Tina...</td>\n",
              "      <td>0</td>\n",
              "      <td>0</td>\n",
              "      <td>user_2816</td>\n",
              "    </tr>\n",
              "    <tr>\n",
              "      <th>...</th>\n",
              "      <td>...</td>\n",
              "      <td>...</td>\n",
              "      <td>...</td>\n",
              "      <td>...</td>\n",
              "    </tr>\n",
              "    <tr>\n",
              "      <th>10235</th>\n",
              "      <td>Dear Ken,\\nMay I know how the input data with ...</td>\n",
              "      <td>1</td>\n",
              "      <td>0</td>\n",
              "      <td>user_5850</td>\n",
              "    </tr>\n",
              "    <tr>\n",
              "      <th>10236</th>\n",
              "      <td>What's your prediction Ken for 2018 or at leas...</td>\n",
              "      <td>0</td>\n",
              "      <td>0</td>\n",
              "      <td>user_2676</td>\n",
              "    </tr>\n",
              "    <tr>\n",
              "      <th>10237</th>\n",
              "      <td>Nice. I have some nice models for this doing v...</td>\n",
              "      <td>0</td>\n",
              "      <td>0</td>\n",
              "      <td>user_4533</td>\n",
              "    </tr>\n",
              "    <tr>\n",
              "      <th>10238</th>\n",
              "      <td>Great video! Can you please post the github li...</td>\n",
              "      <td>0</td>\n",
              "      <td>0</td>\n",
              "      <td>user_3368</td>\n",
              "    </tr>\n",
              "    <tr>\n",
              "      <th>10239</th>\n",
              "      <td>Hi Ken\\n\\nI've been researching about this. Wo...</td>\n",
              "      <td>6</td>\n",
              "      <td>2</td>\n",
              "      <td>user_5345</td>\n",
              "    </tr>\n",
              "  </tbody>\n",
              "</table>\n",
              "<p>10240 rows × 4 columns</p>\n",
              "</div>\n",
              "      <button class=\"colab-df-convert\" onclick=\"convertToInteractive('df-ec665c84-b75b-445e-ac49-c714cf9e0daf')\"\n",
              "              title=\"Convert this dataframe to an interactive table.\"\n",
              "              style=\"display:none;\">\n",
              "        \n",
              "  <svg xmlns=\"http://www.w3.org/2000/svg\" height=\"24px\"viewBox=\"0 0 24 24\"\n",
              "       width=\"24px\">\n",
              "    <path d=\"M0 0h24v24H0V0z\" fill=\"none\"/>\n",
              "    <path d=\"M18.56 5.44l.94 2.06.94-2.06 2.06-.94-2.06-.94-.94-2.06-.94 2.06-2.06.94zm-11 1L8.5 8.5l.94-2.06 2.06-.94-2.06-.94L8.5 2.5l-.94 2.06-2.06.94zm10 10l.94 2.06.94-2.06 2.06-.94-2.06-.94-.94-2.06-.94 2.06-2.06.94z\"/><path d=\"M17.41 7.96l-1.37-1.37c-.4-.4-.92-.59-1.43-.59-.52 0-1.04.2-1.43.59L10.3 9.45l-7.72 7.72c-.78.78-.78 2.05 0 2.83L4 21.41c.39.39.9.59 1.41.59.51 0 1.02-.2 1.41-.59l7.78-7.78 2.81-2.81c.8-.78.8-2.07 0-2.86zM5.41 20L4 18.59l7.72-7.72 1.47 1.35L5.41 20z\"/>\n",
              "  </svg>\n",
              "      </button>\n",
              "      \n",
              "  <style>\n",
              "    .colab-df-container {\n",
              "      display:flex;\n",
              "      flex-wrap:wrap;\n",
              "      gap: 12px;\n",
              "    }\n",
              "\n",
              "    .colab-df-convert {\n",
              "      background-color: #E8F0FE;\n",
              "      border: none;\n",
              "      border-radius: 50%;\n",
              "      cursor: pointer;\n",
              "      display: none;\n",
              "      fill: #1967D2;\n",
              "      height: 32px;\n",
              "      padding: 0 0 0 0;\n",
              "      width: 32px;\n",
              "    }\n",
              "\n",
              "    .colab-df-convert:hover {\n",
              "      background-color: #E2EBFA;\n",
              "      box-shadow: 0px 1px 2px rgba(60, 64, 67, 0.3), 0px 1px 3px 1px rgba(60, 64, 67, 0.15);\n",
              "      fill: #174EA6;\n",
              "    }\n",
              "\n",
              "    [theme=dark] .colab-df-convert {\n",
              "      background-color: #3B4455;\n",
              "      fill: #D2E3FC;\n",
              "    }\n",
              "\n",
              "    [theme=dark] .colab-df-convert:hover {\n",
              "      background-color: #434B5C;\n",
              "      box-shadow: 0px 1px 3px 1px rgba(0, 0, 0, 0.15);\n",
              "      filter: drop-shadow(0px 1px 2px rgba(0, 0, 0, 0.3));\n",
              "      fill: #FFFFFF;\n",
              "    }\n",
              "  </style>\n",
              "\n",
              "      <script>\n",
              "        const buttonEl =\n",
              "          document.querySelector('#df-ec665c84-b75b-445e-ac49-c714cf9e0daf button.colab-df-convert');\n",
              "        buttonEl.style.display =\n",
              "          google.colab.kernel.accessAllowed ? 'block' : 'none';\n",
              "\n",
              "        async function convertToInteractive(key) {\n",
              "          const element = document.querySelector('#df-ec665c84-b75b-445e-ac49-c714cf9e0daf');\n",
              "          const dataTable =\n",
              "            await google.colab.kernel.invokeFunction('convertToInteractive',\n",
              "                                                     [key], {});\n",
              "          if (!dataTable) return;\n",
              "\n",
              "          const docLinkHtml = 'Like what you see? Visit the ' +\n",
              "            '<a target=\"_blank\" href=https://colab.research.google.com/notebooks/data_table.ipynb>data table notebook</a>'\n",
              "            + ' to learn more about interactive tables.';\n",
              "          element.innerHTML = '';\n",
              "          dataTable['output_type'] = 'display_data';\n",
              "          await google.colab.output.renderOutput(dataTable, element);\n",
              "          const docLink = document.createElement('div');\n",
              "          docLink.innerHTML = docLinkHtml;\n",
              "          element.appendChild(docLink);\n",
              "        }\n",
              "      </script>\n",
              "    </div>\n",
              "  </div>\n",
              "  "
            ]
          },
          "metadata": {},
          "execution_count": 4
        }
      ],
      "source": [
        "df.drop(['Date','VidId','Comment_ID'],axis=1,inplace=True)\n",
        "df"
      ]
    },
    {
      "cell_type": "code",
      "execution_count": 5,
      "id": "af8636db",
      "metadata": {
        "id": "af8636db"
      },
      "outputs": [],
      "source": [
        "df.dropna(inplace=True)"
      ]
    },
    {
      "cell_type": "code",
      "execution_count": 6,
      "id": "6461b400",
      "metadata": {
        "colab": {
          "base_uri": "https://localhost:8080/"
        },
        "id": "6461b400",
        "outputId": "e4ee5713-1dc8-4905-9200-f3b15336aa2f"
      },
      "outputs": [
        {
          "output_type": "execute_result",
          "data": {
            "text/plain": [
              "Comments       0\n",
              "Reply_Count    0\n",
              "Like_Count     0\n",
              "user_ID        0\n",
              "dtype: int64"
            ]
          },
          "metadata": {},
          "execution_count": 6
        }
      ],
      "source": [
        "df.isnull().sum()"
      ]
    },
    {
      "cell_type": "code",
      "execution_count": 7,
      "id": "88e26c31",
      "metadata": {
        "id": "88e26c31"
      },
      "outputs": [],
      "source": [
        "df['Like_Count']=df['Like_Count'].astype(int)"
      ]
    },
    {
      "cell_type": "code",
      "execution_count": 8,
      "id": "812415d4",
      "metadata": {
        "id": "812415d4"
      },
      "outputs": [],
      "source": [
        "\n",
        "df['Reply_Count']=df['Reply_Count'].astype(int)"
      ]
    },
    {
      "cell_type": "code",
      "execution_count": 9,
      "id": "c8ad3ba7",
      "metadata": {
        "colab": {
          "base_uri": "https://localhost:8080/",
          "height": 206
        },
        "id": "c8ad3ba7",
        "outputId": "a5fcdbad-39d1-42e5-8c27-a08d5ede2407"
      },
      "outputs": [
        {
          "output_type": "execute_result",
          "data": {
            "text/plain": [
              "                                            Comments  Reply_Count  Like_Count  \\\n",
              "0  Thanks for this video Ken.\\n\\nI decided to go ...            0           0   \n",
              "1  Hello ken jee!!! I'm doing a graduation on Com...            0           0   \n",
              "2  Thanks for this video, man. So useful. I'll me...            0           0   \n",
              "3  Great video!!! I started learning Python 8 mon...            0           0   \n",
              "4  Been watching hours of your material (and Tina...            0           0   \n",
              "\n",
              "     user_ID  \n",
              "0   user_981  \n",
              "1   user_213  \n",
              "2  user_1065  \n",
              "3  user_3391  \n",
              "4  user_2816  "
            ],
            "text/html": [
              "\n",
              "  <div id=\"df-6b618c09-9b63-4216-8573-4af0dac5ed62\">\n",
              "    <div class=\"colab-df-container\">\n",
              "      <div>\n",
              "<style scoped>\n",
              "    .dataframe tbody tr th:only-of-type {\n",
              "        vertical-align: middle;\n",
              "    }\n",
              "\n",
              "    .dataframe tbody tr th {\n",
              "        vertical-align: top;\n",
              "    }\n",
              "\n",
              "    .dataframe thead th {\n",
              "        text-align: right;\n",
              "    }\n",
              "</style>\n",
              "<table border=\"1\" class=\"dataframe\">\n",
              "  <thead>\n",
              "    <tr style=\"text-align: right;\">\n",
              "      <th></th>\n",
              "      <th>Comments</th>\n",
              "      <th>Reply_Count</th>\n",
              "      <th>Like_Count</th>\n",
              "      <th>user_ID</th>\n",
              "    </tr>\n",
              "  </thead>\n",
              "  <tbody>\n",
              "    <tr>\n",
              "      <th>0</th>\n",
              "      <td>Thanks for this video Ken.\\n\\nI decided to go ...</td>\n",
              "      <td>0</td>\n",
              "      <td>0</td>\n",
              "      <td>user_981</td>\n",
              "    </tr>\n",
              "    <tr>\n",
              "      <th>1</th>\n",
              "      <td>Hello ken jee!!! I'm doing a graduation on Com...</td>\n",
              "      <td>0</td>\n",
              "      <td>0</td>\n",
              "      <td>user_213</td>\n",
              "    </tr>\n",
              "    <tr>\n",
              "      <th>2</th>\n",
              "      <td>Thanks for this video, man. So useful. I'll me...</td>\n",
              "      <td>0</td>\n",
              "      <td>0</td>\n",
              "      <td>user_1065</td>\n",
              "    </tr>\n",
              "    <tr>\n",
              "      <th>3</th>\n",
              "      <td>Great video!!! I started learning Python 8 mon...</td>\n",
              "      <td>0</td>\n",
              "      <td>0</td>\n",
              "      <td>user_3391</td>\n",
              "    </tr>\n",
              "    <tr>\n",
              "      <th>4</th>\n",
              "      <td>Been watching hours of your material (and Tina...</td>\n",
              "      <td>0</td>\n",
              "      <td>0</td>\n",
              "      <td>user_2816</td>\n",
              "    </tr>\n",
              "  </tbody>\n",
              "</table>\n",
              "</div>\n",
              "      <button class=\"colab-df-convert\" onclick=\"convertToInteractive('df-6b618c09-9b63-4216-8573-4af0dac5ed62')\"\n",
              "              title=\"Convert this dataframe to an interactive table.\"\n",
              "              style=\"display:none;\">\n",
              "        \n",
              "  <svg xmlns=\"http://www.w3.org/2000/svg\" height=\"24px\"viewBox=\"0 0 24 24\"\n",
              "       width=\"24px\">\n",
              "    <path d=\"M0 0h24v24H0V0z\" fill=\"none\"/>\n",
              "    <path d=\"M18.56 5.44l.94 2.06.94-2.06 2.06-.94-2.06-.94-.94-2.06-.94 2.06-2.06.94zm-11 1L8.5 8.5l.94-2.06 2.06-.94-2.06-.94L8.5 2.5l-.94 2.06-2.06.94zm10 10l.94 2.06.94-2.06 2.06-.94-2.06-.94-.94-2.06-.94 2.06-2.06.94z\"/><path d=\"M17.41 7.96l-1.37-1.37c-.4-.4-.92-.59-1.43-.59-.52 0-1.04.2-1.43.59L10.3 9.45l-7.72 7.72c-.78.78-.78 2.05 0 2.83L4 21.41c.39.39.9.59 1.41.59.51 0 1.02-.2 1.41-.59l7.78-7.78 2.81-2.81c.8-.78.8-2.07 0-2.86zM5.41 20L4 18.59l7.72-7.72 1.47 1.35L5.41 20z\"/>\n",
              "  </svg>\n",
              "      </button>\n",
              "      \n",
              "  <style>\n",
              "    .colab-df-container {\n",
              "      display:flex;\n",
              "      flex-wrap:wrap;\n",
              "      gap: 12px;\n",
              "    }\n",
              "\n",
              "    .colab-df-convert {\n",
              "      background-color: #E8F0FE;\n",
              "      border: none;\n",
              "      border-radius: 50%;\n",
              "      cursor: pointer;\n",
              "      display: none;\n",
              "      fill: #1967D2;\n",
              "      height: 32px;\n",
              "      padding: 0 0 0 0;\n",
              "      width: 32px;\n",
              "    }\n",
              "\n",
              "    .colab-df-convert:hover {\n",
              "      background-color: #E2EBFA;\n",
              "      box-shadow: 0px 1px 2px rgba(60, 64, 67, 0.3), 0px 1px 3px 1px rgba(60, 64, 67, 0.15);\n",
              "      fill: #174EA6;\n",
              "    }\n",
              "\n",
              "    [theme=dark] .colab-df-convert {\n",
              "      background-color: #3B4455;\n",
              "      fill: #D2E3FC;\n",
              "    }\n",
              "\n",
              "    [theme=dark] .colab-df-convert:hover {\n",
              "      background-color: #434B5C;\n",
              "      box-shadow: 0px 1px 3px 1px rgba(0, 0, 0, 0.15);\n",
              "      filter: drop-shadow(0px 1px 2px rgba(0, 0, 0, 0.3));\n",
              "      fill: #FFFFFF;\n",
              "    }\n",
              "  </style>\n",
              "\n",
              "      <script>\n",
              "        const buttonEl =\n",
              "          document.querySelector('#df-6b618c09-9b63-4216-8573-4af0dac5ed62 button.colab-df-convert');\n",
              "        buttonEl.style.display =\n",
              "          google.colab.kernel.accessAllowed ? 'block' : 'none';\n",
              "\n",
              "        async function convertToInteractive(key) {\n",
              "          const element = document.querySelector('#df-6b618c09-9b63-4216-8573-4af0dac5ed62');\n",
              "          const dataTable =\n",
              "            await google.colab.kernel.invokeFunction('convertToInteractive',\n",
              "                                                     [key], {});\n",
              "          if (!dataTable) return;\n",
              "\n",
              "          const docLinkHtml = 'Like what you see? Visit the ' +\n",
              "            '<a target=\"_blank\" href=https://colab.research.google.com/notebooks/data_table.ipynb>data table notebook</a>'\n",
              "            + ' to learn more about interactive tables.';\n",
              "          element.innerHTML = '';\n",
              "          dataTable['output_type'] = 'display_data';\n",
              "          await google.colab.output.renderOutput(dataTable, element);\n",
              "          const docLink = document.createElement('div');\n",
              "          docLink.innerHTML = docLinkHtml;\n",
              "          element.appendChild(docLink);\n",
              "        }\n",
              "      </script>\n",
              "    </div>\n",
              "  </div>\n",
              "  "
            ]
          },
          "metadata": {},
          "execution_count": 9
        }
      ],
      "source": [
        "df.head()"
      ]
    },
    {
      "cell_type": "code",
      "execution_count": 10,
      "id": "079d3c43",
      "metadata": {
        "id": "079d3c43"
      },
      "outputs": [],
      "source": [
        "df['S_score']=df['Comments'].apply(lambda x:sia.polarity_scores(x)['compound'])"
      ]
    },
    {
      "cell_type": "code",
      "execution_count": 11,
      "id": "5b9898de",
      "metadata": {
        "id": "5b9898de"
      },
      "outputs": [],
      "source": [
        "df['sentiment']=df['S_score'].apply(lambda s:'postive' if s>0 else ('neutral' if s==0 else 'negative'))"
      ]
    },
    {
      "cell_type": "code",
      "execution_count": 12,
      "id": "285b58dd",
      "metadata": {
        "id": "285b58dd"
      },
      "outputs": [],
      "source": [
        "df['Comments']=df['Comments'].replace({'<.*?>': ''}, regex = True)\n",
        "df['Comments']=df['Comments'].replace({'[^A-Za-z]': ' '}, regex = True)"
      ]
    },
    {
      "cell_type": "code",
      "execution_count": 13,
      "id": "7f0dfc6f",
      "metadata": {
        "colab": {
          "base_uri": "https://localhost:8080/"
        },
        "id": "7f0dfc6f",
        "outputId": "ef378adc-1a32-45b9-e6c7-a3b8b67d6d33"
      },
      "outputs": [
        {
          "output_type": "stream",
          "name": "stderr",
          "text": [
            "[nltk_data] Downloading package stopwords to /root/nltk_data...\n",
            "[nltk_data]   Package stopwords is already up-to-date!\n"
          ]
        }
      ],
      "source": [
        "import nltk\n",
        "nltk.download('stopwords')\n",
        "from nltk.corpus import stopwords\n",
        "english_stops = set(stopwords.words('english'))\n",
        "\n",
        "df['Comments']=df['Comments'].apply(lambda review: [w for w in review.split() if w not in english_stops])"
      ]
    },
    {
      "cell_type": "code",
      "source": [
        "import wordcloud\n",
        "\n",
        "\n",
        "common_words=''\n",
        "for i in df.Comments:\n",
        "    i = str(i)\n",
        "    tokens = i.split()\n",
        "    common_words += \" \".join(tokens)+\" \"\n",
        "wordcloud = wordcloud.WordCloud().generate(common_words)\n",
        "plt.imshow(wordcloud, interpolation='bilinear')\n",
        "plt.axis(\"off\")\n",
        "plt.show()"
      ],
      "metadata": {
        "colab": {
          "base_uri": "https://localhost:8080/",
          "height": 198
        },
        "id": "GQmjzaisj81o",
        "outputId": "1b627e70-966c-45f1-e959-4dc0af8ae494"
      },
      "id": "GQmjzaisj81o",
      "execution_count": 14,
      "outputs": [
        {
          "output_type": "display_data",
          "data": {
            "text/plain": [
              "<Figure size 432x288 with 1 Axes>"
            ],
            "image/png": "[encoded data removed]"
          },
          "metadata": {
            "needs_background": "light"
          }
        }
      ]
    },
    {
      "cell_type": "code",
      "execution_count": 15,
      "id": "12550b56",
      "metadata": {
        "id": "12550b56"
      },
      "outputs": [],
      "source": [
        "df['Comments']=df['Comments'].apply(lambda review: [w.lower() for w in review])"
      ]
    },
    {
      "cell_type": "code",
      "execution_count": 16,
      "id": "399f0709",
      "metadata": {
        "colab": {
          "base_uri": "https://localhost:8080/"
        },
        "id": "399f0709",
        "outputId": "57068504-181e-4282-8e04-c6e1787f2c1f"
      },
      "outputs": [
        {
          "output_type": "execute_result",
          "data": {
            "text/plain": [
              "0        [thanks, video, ken, i, decided, go, tech, lea...\n",
              "1        [hello, ken, jee, i, graduation, computer, sci...\n",
              "2        [thanks, video, man, so, useful, i, meet, i, s...\n",
              "3        [great, video, i, started, learning, python, m...\n",
              "4        [been, watching, hours, material, tina, i, kno...\n",
              "                               ...                        \n",
              "10235    [dear, ken, may, i, know, input, data, open, h...\n",
              "10236    [what, prediction, ken, least, next, months, t...\n",
              "10237             [nice, i, nice, models, well, how, make]\n",
              "10238    [great, video, can, please, post, github, link...\n",
              "10239    [hi, ken, i, researching, would, really, helpf...\n",
              "Name: Comments, Length: 10239, dtype: object"
            ]
          },
          "metadata": {},
          "execution_count": 16
        }
      ],
      "source": [
        "df['Comments']"
      ]
    },
    {
      "cell_type": "code",
      "execution_count": 17,
      "id": "5e4b7843",
      "metadata": {
        "colab": {
          "base_uri": "https://localhost:8080/",
          "height": 424
        },
        "id": "5e4b7843",
        "outputId": "a3b8194e-09a4-432a-d8d4-b52cbfc516f3"
      },
      "outputs": [
        {
          "output_type": "execute_result",
          "data": {
            "text/plain": [
              "                                                Comments  Reply_Count  \\\n",
              "0      [thanks, video, ken, i, decided, go, tech, lea...            0   \n",
              "1      [hello, ken, jee, i, graduation, computer, sci...            0   \n",
              "2      [thanks, video, man, so, useful, i, meet, i, s...            0   \n",
              "3      [great, video, i, started, learning, python, m...            0   \n",
              "4      [been, watching, hours, material, tina, i, kno...            0   \n",
              "...                                                  ...          ...   \n",
              "10235  [dear, ken, may, i, know, input, data, open, h...            1   \n",
              "10236  [what, prediction, ken, least, next, months, t...            0   \n",
              "10237           [nice, i, nice, models, well, how, make]            0   \n",
              "10238  [great, video, can, please, post, github, link...            0   \n",
              "10239  [hi, ken, i, researching, would, really, helpf...            6   \n",
              "\n",
              "       Like_Count    user_ID  S_score sentiment  \n",
              "0               0   user_981   0.9245   postive  \n",
              "1               0   user_213   0.9350   postive  \n",
              "2               0  user_1065   0.7264   postive  \n",
              "3               0  user_3391   0.9425   postive  \n",
              "4               0  user_2816   0.7347   postive  \n",
              "...           ...        ...      ...       ...  \n",
              "10235           0  user_5850   0.4515   postive  \n",
              "10236           0  user_2676   0.0000   neutral  \n",
              "10237           0  user_4533   0.7902   postive  \n",
              "10238           0  user_3368   0.8478   postive  \n",
              "10239           2  user_5345   0.9348   postive  \n",
              "\n",
              "[10239 rows x 6 columns]"
            ],
            "text/html": [
              "\n",
              "  <div id=\"df-f502cd79-5d0d-4bf5-9fec-a60a2964b474\">\n",
              "    <div class=\"colab-df-container\">\n",
              "      <div>\n",
              "<style scoped>\n",
              "    .dataframe tbody tr th:only-of-type {\n",
              "        vertical-align: middle;\n",
              "    }\n",
              "\n",
              "    .dataframe tbody tr th {\n",
              "        vertical-align: top;\n",
              "    }\n",
              "\n",
              "    .dataframe thead th {\n",
              "        text-align: right;\n",
              "    }\n",
              "</style>\n",
              "<table border=\"1\" class=\"dataframe\">\n",
              "  <thead>\n",
              "    <tr style=\"text-align: right;\">\n",
              "      <th></th>\n",
              "      <th>Comments</th>\n",
              "      <th>Reply_Count</th>\n",
              "      <th>Like_Count</th>\n",
              "      <th>user_ID</th>\n",
              "      <th>S_score</th>\n",
              "      <th>sentiment</th>\n",
              "    </tr>\n",
              "  </thead>\n",
              "  <tbody>\n",
              "    <tr>\n",
              "      <th>0</th>\n",
              "      <td>[thanks, video, ken, i, decided, go, tech, lea...</td>\n",
              "      <td>0</td>\n",
              "      <td>0</td>\n",
              "      <td>user_981</td>\n",
              "      <td>0.9245</td>\n",
              "      <td>postive</td>\n",
              "    </tr>\n",
              "    <tr>\n",
              "      <th>1</th>\n",
              "      <td>[hello, ken, jee, i, graduation, computer, sci...</td>\n",
              "      <td>0</td>\n",
              "      <td>0</td>\n",
              "      <td>user_213</td>\n",
              "      <td>0.9350</td>\n",
              "      <td>postive</td>\n",
              "    </tr>\n",
              "    <tr>\n",
              "      <th>2</th>\n",
              "      <td>[thanks, video, man, so, useful, i, meet, i, s...</td>\n",
              "      <td>0</td>\n",
              "      <td>0</td>\n",
              "      <td>user_1065</td>\n",
              "      <td>0.7264</td>\n",
              "      <td>postive</td>\n",
              "    </tr>\n",
              "    <tr>\n",
              "      <th>3</th>\n",
              "      <td>[great, video, i, started, learning, python, m...</td>\n",
              "      <td>0</td>\n",
              "      <td>0</td>\n",
              "      <td>user_3391</td>\n",
              "      <td>0.9425</td>\n",
              "      <td>postive</td>\n",
              "    </tr>\n",
              "    <tr>\n",
              "      <th>4</th>\n",
              "      <td>[been, watching, hours, material, tina, i, kno...</td>\n",
              "      <td>0</td>\n",
              "      <td>0</td>\n",
              "      <td>user_2816</td>\n",
              "      <td>0.7347</td>\n",
              "      <td>postive</td>\n",
              "    </tr>\n",
              "    <tr>\n",
              "      <th>...</th>\n",
              "      <td>...</td>\n",
              "      <td>...</td>\n",
              "      <td>...</td>\n",
              "      <td>...</td>\n",
              "      <td>...</td>\n",
              "      <td>...</td>\n",
              "    </tr>\n",
              "    <tr>\n",
              "      <th>10235</th>\n",
              "      <td>[dear, ken, may, i, know, input, data, open, h...</td>\n",
              "      <td>1</td>\n",
              "      <td>0</td>\n",
              "      <td>user_5850</td>\n",
              "      <td>0.4515</td>\n",
              "      <td>postive</td>\n",
              "    </tr>\n",
              "    <tr>\n",
              "      <th>10236</th>\n",
              "      <td>[what, prediction, ken, least, next, months, t...</td>\n",
              "      <td>0</td>\n",
              "      <td>0</td>\n",
              "      <td>user_2676</td>\n",
              "      <td>0.0000</td>\n",
              "      <td>neutral</td>\n",
              "    </tr>\n",
              "    <tr>\n",
              "      <th>10237</th>\n",
              "      <td>[nice, i, nice, models, well, how, make]</td>\n",
              "      <td>0</td>\n",
              "      <td>0</td>\n",
              "      <td>user_4533</td>\n",
              "      <td>0.7902</td>\n",
              "      <td>postive</td>\n",
              "    </tr>\n",
              "    <tr>\n",
              "      <th>10238</th>\n",
              "      <td>[great, video, can, please, post, github, link...</td>\n",
              "      <td>0</td>\n",
              "      <td>0</td>\n",
              "      <td>user_3368</td>\n",
              "      <td>0.8478</td>\n",
              "      <td>postive</td>\n",
              "    </tr>\n",
              "    <tr>\n",
              "      <th>10239</th>\n",
              "      <td>[hi, ken, i, researching, would, really, helpf...</td>\n",
              "      <td>6</td>\n",
              "      <td>2</td>\n",
              "      <td>user_5345</td>\n",
              "      <td>0.9348</td>\n",
              "      <td>postive</td>\n",
              "    </tr>\n",
              "  </tbody>\n",
              "</table>\n",
              "<p>10239 rows × 6 columns</p>\n",
              "</div>\n",
              "      <button class=\"colab-df-convert\" onclick=\"convertToInteractive('df-f502cd79-5d0d-4bf5-9fec-a60a2964b474')\"\n",
              "              title=\"Convert this dataframe to an interactive table.\"\n",
              "              style=\"display:none;\">\n",
              "        \n",
              "  <svg xmlns=\"http://www.w3.org/2000/svg\" height=\"24px\"viewBox=\"0 0 24 24\"\n",
              "       width=\"24px\">\n",
              "    <path d=\"M0 0h24v24H0V0z\" fill=\"none\"/>\n",
              "    <path d=\"M18.56 5.44l.94 2.06.94-2.06 2.06-.94-2.06-.94-.94-2.06-.94 2.06-2.06.94zm-11 1L8.5 8.5l.94-2.06 2.06-.94-2.06-.94L8.5 2.5l-.94 2.06-2.06.94zm10 10l.94 2.06.94-2.06 2.06-.94-2.06-.94-.94-2.06-.94 2.06-2.06.94z\"/><path d=\"M17.41 7.96l-1.37-1.37c-.4-.4-.92-.59-1.43-.59-.52 0-1.04.2-1.43.59L10.3 9.45l-7.72 7.72c-.78.78-.78 2.05 0 2.83L4 21.41c.39.39.9.59 1.41.59.51 0 1.02-.2 1.41-.59l7.78-7.78 2.81-2.81c.8-.78.8-2.07 0-2.86zM5.41 20L4 18.59l7.72-7.72 1.47 1.35L5.41 20z\"/>\n",
              "  </svg>\n",
              "      </button>\n",
              "      \n",
              "  <style>\n",
              "    .colab-df-container {\n",
              "      display:flex;\n",
              "      flex-wrap:wrap;\n",
              "      gap: 12px;\n",
              "    }\n",
              "\n",
              "    .colab-df-convert {\n",
              "      background-color: #E8F0FE;\n",
              "      border: none;\n",
              "      border-radius: 50%;\n",
              "      cursor: pointer;\n",
              "      display: none;\n",
              "      fill: #1967D2;\n",
              "      height: 32px;\n",
              "      padding: 0 0 0 0;\n",
              "      width: 32px;\n",
              "    }\n",
              "\n",
              "    .colab-df-convert:hover {\n",
              "      background-color: #E2EBFA;\n",
              "      box-shadow: 0px 1px 2px rgba(60, 64, 67, 0.3), 0px 1px 3px 1px rgba(60, 64, 67, 0.15);\n",
              "      fill: #174EA6;\n",
              "    }\n",
              "\n",
              "    [theme=dark] .colab-df-convert {\n",
              "      background-color: #3B4455;\n",
              "      fill: #D2E3FC;\n",
              "    }\n",
              "\n",
              "    [theme=dark] .colab-df-convert:hover {\n",
              "      background-color: #434B5C;\n",
              "      box-shadow: 0px 1px 3px 1px rgba(0, 0, 0, 0.15);\n",
              "      filter: drop-shadow(0px 1px 2px rgba(0, 0, 0, 0.3));\n",
              "      fill: #FFFFFF;\n",
              "    }\n",
              "  </style>\n",
              "\n",
              "      <script>\n",
              "        const buttonEl =\n",
              "          document.querySelector('#df-f502cd79-5d0d-4bf5-9fec-a60a2964b474 button.colab-df-convert');\n",
              "        buttonEl.style.display =\n",
              "          google.colab.kernel.accessAllowed ? 'block' : 'none';\n",
              "\n",
              "        async function convertToInteractive(key) {\n",
              "          const element = document.querySelector('#df-f502cd79-5d0d-4bf5-9fec-a60a2964b474');\n",
              "          const dataTable =\n",
              "            await google.colab.kernel.invokeFunction('convertToInteractive',\n",
              "                                                     [key], {});\n",
              "          if (!dataTable) return;\n",
              "\n",
              "          const docLinkHtml = 'Like what you see? Visit the ' +\n",
              "            '<a target=\"_blank\" href=https://colab.research.google.com/notebooks/data_table.ipynb>data table notebook</a>'\n",
              "            + ' to learn more about interactive tables.';\n",
              "          element.innerHTML = '';\n",
              "          dataTable['output_type'] = 'display_data';\n",
              "          await google.colab.output.renderOutput(dataTable, element);\n",
              "          const docLink = document.createElement('div');\n",
              "          docLink.innerHTML = docLinkHtml;\n",
              "          element.appendChild(docLink);\n",
              "        }\n",
              "      </script>\n",
              "    </div>\n",
              "  </div>\n",
              "  "
            ]
          },
          "metadata": {},
          "execution_count": 17
        }
      ],
      "source": [
        "df"
      ]
    },
    {
      "cell_type": "code",
      "execution_count": 21,
      "id": "601dc4dd",
      "metadata": {
        "colab": {
          "base_uri": "https://localhost:8080/",
          "height": 303
        },
        "id": "601dc4dd",
        "outputId": "aa9c1da5-a131-4f3e-88aa-39dc80cb312d"
      },
      "outputs": [
        {
          "output_type": "display_data",
          "data": {
            "text/plain": [
              "<Figure size 360x360 with 1 Axes>"
            ],
            "image/png": "[encoded data removed]"
          },
          "metadata": {}
        }
      ],
      "source": [
        "y = df['sentiment'].value_counts()\n",
        "lab = [\"Positive\",\"Neutral\",\"Negative\"]\n",
        "exp = [0.05, 0.05,0.05]\n",
        "col= ['skyblue','pink','red']\n",
        "plt.figure(figsize=(5,5))\n",
        "plt.pie(y, labels = lab, explode = exp, colors = col, shadow = True)\n",
        "plt.show() "
      ]
    },
    {
      "cell_type": "code",
      "execution_count": 22,
      "id": "9c2b132f",
      "metadata": {
        "colab": {
          "base_uri": "https://localhost:8080/"
        },
        "id": "9c2b132f",
        "outputId": "3e666469-6ded-4d79-f6be-43f891863a00"
      },
      "outputs": [
        {
          "output_type": "execute_result",
          "data": {
            "text/plain": [
              "postive     7790\n",
              "neutral     1663\n",
              "negative     786\n",
              "Name: sentiment, dtype: int64"
            ]
          },
          "metadata": {},
          "execution_count": 22
        }
      ],
      "source": [
        "df['sentiment'].value_counts()"
      ]
    },
    {
      "cell_type": "code",
      "execution_count": 23,
      "id": "83f95ce9",
      "metadata": {
        "colab": {
          "base_uri": "https://localhost:8080/"
        },
        "id": "83f95ce9",
        "outputId": "d32ba923-cd88-4bda-92ef-54e901c7cca9"
      },
      "outputs": [
        {
          "output_type": "execute_result",
          "data": {
            "text/plain": [
              "((10239,), (10239,))"
            ]
          },
          "metadata": {},
          "execution_count": 23
        }
      ],
      "source": [
        "x=df['Comments']\n",
        "y=df['sentiment']\n",
        "x.shape,y.shape"
      ]
    },
    {
      "cell_type": "code",
      "execution_count": 24,
      "id": "f9e4e2b1",
      "metadata": {
        "id": "f9e4e2b1"
      },
      "outputs": [],
      "source": [
        "y=y.replace('postive',1)\n",
        "y=y.replace('neutral',0)\n",
        "y=y.replace('negative',-1)"
      ]
    },
    {
      "cell_type": "code",
      "execution_count": 25,
      "id": "0697a040",
      "metadata": {
        "colab": {
          "base_uri": "https://localhost:8080/"
        },
        "id": "0697a040",
        "outputId": "f81f5d62-d61e-452c-e646-be6435819cac"
      },
      "outputs": [
        {
          "output_type": "execute_result",
          "data": {
            "text/plain": [
              "dtype('int64')"
            ]
          },
          "metadata": {},
          "execution_count": 25
        }
      ],
      "source": [
        "y.dtype"
      ]
    },
    {
      "cell_type": "code",
      "execution_count": 26,
      "id": "40ccf5a8",
      "metadata": {
        "colab": {
          "base_uri": "https://localhost:8080/"
        },
        "id": "40ccf5a8",
        "outputId": "28e8c394-d434-4f00-c04d-e6fbf5df088b"
      },
      "outputs": [
        {
          "output_type": "execute_result",
          "data": {
            "text/plain": [
              "dtype('O')"
            ]
          },
          "metadata": {},
          "execution_count": 26
        }
      ],
      "source": [
        "x.dtype"
      ]
    },
    {
      "cell_type": "code",
      "execution_count": 27,
      "id": "2f8ea638",
      "metadata": {
        "id": "2f8ea638"
      },
      "outputs": [],
      "source": [
        "from sklearn.model_selection import train_test_split\n",
        "x_train, x_test, y_train, y_test = train_test_split(x, y, test_size = 0.2)"
      ]
    },
    {
      "cell_type": "code",
      "execution_count": 28,
      "id": "f1817ace",
      "metadata": {
        "colab": {
          "base_uri": "https://localhost:8080/"
        },
        "id": "f1817ace",
        "outputId": "ee5f7e58-ace6-422f-e9ea-7a322259a94a"
      },
      "outputs": [
        {
          "output_type": "execute_result",
          "data": {
            "text/plain": [
              "((8191,),)"
            ]
          },
          "metadata": {},
          "execution_count": 28
        }
      ],
      "source": [
        "x_train.shape,"
      ]
    },
    {
      "cell_type": "code",
      "execution_count": 29,
      "id": "16926bd6",
      "metadata": {
        "colab": {
          "base_uri": "https://localhost:8080/"
        },
        "id": "16926bd6",
        "outputId": "b53851e6-0cd0-4859-e54a-7c61aef3cd39"
      },
      "outputs": [
        {
          "output_type": "execute_result",
          "data": {
            "text/plain": [
              "(2048,)"
            ]
          },
          "metadata": {},
          "execution_count": 29
        }
      ],
      "source": [
        "x_test.shape"
      ]
    },
    {
      "cell_type": "code",
      "execution_count": 30,
      "id": "4019a792",
      "metadata": {
        "id": "4019a792"
      },
      "outputs": [],
      "source": [
        "def get_max_length():\n",
        "    review_length = []\n",
        "    for review in x_train:\n",
        "        review_length.append(len(review))\n",
        "\n",
        "    return int(np.ceil(np.mean(review_length)))"
      ]
    },
    {
      "cell_type": "code",
      "execution_count": 31,
      "id": "0735a17b",
      "metadata": {
        "id": "0735a17b"
      },
      "outputs": [],
      "source": [
        "from tensorflow.keras.preprocessing.text import Tokenizer\n",
        "token=Tokenizer()\n",
        "token.fit_on_texts(x_train)\n",
        "x_train = token.texts_to_sequences(x_train)\n",
        "x_test = token.texts_to_sequences(x_test)"
      ]
    },
    {
      "cell_type": "code",
      "execution_count": 32,
      "id": "728522f7",
      "metadata": {
        "colab": {
          "base_uri": "https://localhost:8080/",
          "height": 424
        },
        "id": "728522f7",
        "outputId": "05fa0cfc-7c73-401b-8c9b-ac91718391e2"
      },
      "outputs": [
        {
          "output_type": "execute_result",
          "data": {
            "text/plain": [
              "                                                Comments  Reply_Count  \\\n",
              "0      [thanks, video, ken, i, decided, go, tech, lea...            0   \n",
              "1      [hello, ken, jee, i, graduation, computer, sci...            0   \n",
              "2      [thanks, video, man, so, useful, i, meet, i, s...            0   \n",
              "3      [great, video, i, started, learning, python, m...            0   \n",
              "4      [been, watching, hours, material, tina, i, kno...            0   \n",
              "...                                                  ...          ...   \n",
              "10235  [dear, ken, may, i, know, input, data, open, h...            1   \n",
              "10236  [what, prediction, ken, least, next, months, t...            0   \n",
              "10237           [nice, i, nice, models, well, how, make]            0   \n",
              "10238  [great, video, can, please, post, github, link...            0   \n",
              "10239  [hi, ken, i, researching, would, really, helpf...            6   \n",
              "\n",
              "       Like_Count    user_ID  S_score sentiment  \n",
              "0               0   user_981   0.9245   postive  \n",
              "1               0   user_213   0.9350   postive  \n",
              "2               0  user_1065   0.7264   postive  \n",
              "3               0  user_3391   0.9425   postive  \n",
              "4               0  user_2816   0.7347   postive  \n",
              "...           ...        ...      ...       ...  \n",
              "10235           0  user_5850   0.4515   postive  \n",
              "10236           0  user_2676   0.0000   neutral  \n",
              "10237           0  user_4533   0.7902   postive  \n",
              "10238           0  user_3368   0.8478   postive  \n",
              "10239           2  user_5345   0.9348   postive  \n",
              "\n",
              "[10239 rows x 6 columns]"
            ],
            "text/html": [
              "\n",
              "  <div id=\"df-2d75816f-031f-46dd-8f26-2af76d4568ce\">\n",
              "    <div class=\"colab-df-container\">\n",
              "      <div>\n",
              "<style scoped>\n",
              "    .dataframe tbody tr th:only-of-type {\n",
              "        vertical-align: middle;\n",
              "    }\n",
              "\n",
              "    .dataframe tbody tr th {\n",
              "        vertical-align: top;\n",
              "    }\n",
              "\n",
              "    .dataframe thead th {\n",
              "        text-align: right;\n",
              "    }\n",
              "</style>\n",
              "<table border=\"1\" class=\"dataframe\">\n",
              "  <thead>\n",
              "    <tr style=\"text-align: right;\">\n",
              "      <th></th>\n",
              "      <th>Comments</th>\n",
              "      <th>Reply_Count</th>\n",
              "      <th>Like_Count</th>\n",
              "      <th>user_ID</th>\n",
              "      <th>S_score</th>\n",
              "      <th>sentiment</th>\n",
              "    </tr>\n",
              "  </thead>\n",
              "  <tbody>\n",
              "    <tr>\n",
              "      <th>0</th>\n",
              "      <td>[thanks, video, ken, i, decided, go, tech, lea...</td>\n",
              "      <td>0</td>\n",
              "      <td>0</td>\n",
              "      <td>user_981</td>\n",
              "      <td>0.9245</td>\n",
              "      <td>postive</td>\n",
              "    </tr>\n",
              "    <tr>\n",
              "      <th>1</th>\n",
              "      <td>[hello, ken, jee, i, graduation, computer, sci...</td>\n",
              "      <td>0</td>\n",
              "      <td>0</td>\n",
              "      <td>user_213</td>\n",
              "      <td>0.9350</td>\n",
              "      <td>postive</td>\n",
              "    </tr>\n",
              "    <tr>\n",
              "      <th>2</th>\n",
              "      <td>[thanks, video, man, so, useful, i, meet, i, s...</td>\n",
              "      <td>0</td>\n",
              "      <td>0</td>\n",
              "      <td>user_1065</td>\n",
              "      <td>0.7264</td>\n",
              "      <td>postive</td>\n",
              "    </tr>\n",
              "    <tr>\n",
              "      <th>3</th>\n",
              "      <td>[great, video, i, started, learning, python, m...</td>\n",
              "      <td>0</td>\n",
              "      <td>0</td>\n",
              "      <td>user_3391</td>\n",
              "      <td>0.9425</td>\n",
              "      <td>postive</td>\n",
              "    </tr>\n",
              "    <tr>\n",
              "      <th>4</th>\n",
              "      <td>[been, watching, hours, material, tina, i, kno...</td>\n",
              "      <td>0</td>\n",
              "      <td>0</td>\n",
              "      <td>user_2816</td>\n",
              "      <td>0.7347</td>\n",
              "      <td>postive</td>\n",
              "    </tr>\n",
              "    <tr>\n",
              "      <th>...</th>\n",
              "      <td>...</td>\n",
              "      <td>...</td>\n",
              "      <td>...</td>\n",
              "      <td>...</td>\n",
              "      <td>...</td>\n",
              "      <td>...</td>\n",
              "    </tr>\n",
              "    <tr>\n",
              "      <th>10235</th>\n",
              "      <td>[dear, ken, may, i, know, input, data, open, h...</td>\n",
              "      <td>1</td>\n",
              "      <td>0</td>\n",
              "      <td>user_5850</td>\n",
              "      <td>0.4515</td>\n",
              "      <td>postive</td>\n",
              "    </tr>\n",
              "    <tr>\n",
              "      <th>10236</th>\n",
              "      <td>[what, prediction, ken, least, next, months, t...</td>\n",
              "      <td>0</td>\n",
              "      <td>0</td>\n",
              "      <td>user_2676</td>\n",
              "      <td>0.0000</td>\n",
              "      <td>neutral</td>\n",
              "    </tr>\n",
              "    <tr>\n",
              "      <th>10237</th>\n",
              "      <td>[nice, i, nice, models, well, how, make]</td>\n",
              "      <td>0</td>\n",
              "      <td>0</td>\n",
              "      <td>user_4533</td>\n",
              "      <td>0.7902</td>\n",
              "      <td>postive</td>\n",
              "    </tr>\n",
              "    <tr>\n",
              "      <th>10238</th>\n",
              "      <td>[great, video, can, please, post, github, link...</td>\n",
              "      <td>0</td>\n",
              "      <td>0</td>\n",
              "      <td>user_3368</td>\n",
              "      <td>0.8478</td>\n",
              "      <td>postive</td>\n",
              "    </tr>\n",
              "    <tr>\n",
              "      <th>10239</th>\n",
              "      <td>[hi, ken, i, researching, would, really, helpf...</td>\n",
              "      <td>6</td>\n",
              "      <td>2</td>\n",
              "      <td>user_5345</td>\n",
              "      <td>0.9348</td>\n",
              "      <td>postive</td>\n",
              "    </tr>\n",
              "  </tbody>\n",
              "</table>\n",
              "<p>10239 rows × 6 columns</p>\n",
              "</div>\n",
              "      <button class=\"colab-df-convert\" onclick=\"convertToInteractive('df-2d75816f-031f-46dd-8f26-2af76d4568ce')\"\n",
              "              title=\"Convert this dataframe to an interactive table.\"\n",
              "              style=\"display:none;\">\n",
              "        \n",
              "  <svg xmlns=\"http://www.w3.org/2000/svg\" height=\"24px\"viewBox=\"0 0 24 24\"\n",
              "       width=\"24px\">\n",
              "    <path d=\"M0 0h24v24H0V0z\" fill=\"none\"/>\n",
              "    <path d=\"M18.56 5.44l.94 2.06.94-2.06 2.06-.94-2.06-.94-.94-2.06-.94 2.06-2.06.94zm-11 1L8.5 8.5l.94-2.06 2.06-.94-2.06-.94L8.5 2.5l-.94 2.06-2.06.94zm10 10l.94 2.06.94-2.06 2.06-.94-2.06-.94-.94-2.06-.94 2.06-2.06.94z\"/><path d=\"M17.41 7.96l-1.37-1.37c-.4-.4-.92-.59-1.43-.59-.52 0-1.04.2-1.43.59L10.3 9.45l-7.72 7.72c-.78.78-.78 2.05 0 2.83L4 21.41c.39.39.9.59 1.41.59.51 0 1.02-.2 1.41-.59l7.78-7.78 2.81-2.81c.8-.78.8-2.07 0-2.86zM5.41 20L4 18.59l7.72-7.72 1.47 1.35L5.41 20z\"/>\n",
              "  </svg>\n",
              "      </button>\n",
              "      \n",
              "  <style>\n",
              "    .colab-df-container {\n",
              "      display:flex;\n",
              "      flex-wrap:wrap;\n",
              "      gap: 12px;\n",
              "    }\n",
              "\n",
              "    .colab-df-convert {\n",
              "      background-color: #E8F0FE;\n",
              "      border: none;\n",
              "      border-radius: 50%;\n",
              "      cursor: pointer;\n",
              "      display: none;\n",
              "      fill: #1967D2;\n",
              "      height: 32px;\n",
              "      padding: 0 0 0 0;\n",
              "      width: 32px;\n",
              "    }\n",
              "\n",
              "    .colab-df-convert:hover {\n",
              "      background-color: #E2EBFA;\n",
              "      box-shadow: 0px 1px 2px rgba(60, 64, 67, 0.3), 0px 1px 3px 1px rgba(60, 64, 67, 0.15);\n",
              "      fill: #174EA6;\n",
              "    }\n",
              "\n",
              "    [theme=dark] .colab-df-convert {\n",
              "      background-color: #3B4455;\n",
              "      fill: #D2E3FC;\n",
              "    }\n",
              "\n",
              "    [theme=dark] .colab-df-convert:hover {\n",
              "      background-color: #434B5C;\n",
              "      box-shadow: 0px 1px 3px 1px rgba(0, 0, 0, 0.15);\n",
              "      filter: drop-shadow(0px 1px 2px rgba(0, 0, 0, 0.3));\n",
              "      fill: #FFFFFF;\n",
              "    }\n",
              "  </style>\n",
              "\n",
              "      <script>\n",
              "        const buttonEl =\n",
              "          document.querySelector('#df-2d75816f-031f-46dd-8f26-2af76d4568ce button.colab-df-convert');\n",
              "        buttonEl.style.display =\n",
              "          google.colab.kernel.accessAllowed ? 'block' : 'none';\n",
              "\n",
              "        async function convertToInteractive(key) {\n",
              "          const element = document.querySelector('#df-2d75816f-031f-46dd-8f26-2af76d4568ce');\n",
              "          const dataTable =\n",
              "            await google.colab.kernel.invokeFunction('convertToInteractive',\n",
              "                                                     [key], {});\n",
              "          if (!dataTable) return;\n",
              "\n",
              "          const docLinkHtml = 'Like what you see? Visit the ' +\n",
              "            '<a target=\"_blank\" href=https://colab.research.google.com/notebooks/data_table.ipynb>data table notebook</a>'\n",
              "            + ' to learn more about interactive tables.';\n",
              "          element.innerHTML = '';\n",
              "          dataTable['output_type'] = 'display_data';\n",
              "          await google.colab.output.renderOutput(dataTable, element);\n",
              "          const docLink = document.createElement('div');\n",
              "          docLink.innerHTML = docLinkHtml;\n",
              "          element.appendChild(docLink);\n",
              "        }\n",
              "      </script>\n",
              "    </div>\n",
              "  </div>\n",
              "  "
            ]
          },
          "metadata": {},
          "execution_count": 32
        }
      ],
      "source": [
        "df"
      ]
    },
    {
      "cell_type": "code",
      "execution_count": 33,
      "id": "a7752a55",
      "metadata": {
        "id": "a7752a55"
      },
      "outputs": [],
      "source": [
        "max_length=get_max_length()\n",
        "x_train=pad_sequences(x_train,maxlen=max_length,padding='post',truncating='post')\n",
        "x_test=pad_sequences(x_test,maxlen=max_length,padding='post',truncating='post')"
      ]
    },
    {
      "cell_type": "code",
      "execution_count": 34,
      "id": "9b0466cc",
      "metadata": {
        "colab": {
          "base_uri": "https://localhost:8080/"
        },
        "id": "9b0466cc",
        "outputId": "bc4dd784-f40f-40ed-8491-9ab731f027cb"
      },
      "outputs": [
        {
          "output_type": "execute_result",
          "data": {
            "text/plain": [
              "11306"
            ]
          },
          "metadata": {},
          "execution_count": 34
        }
      ],
      "source": [
        "total_words = len(token.word_index) + 1\n",
        "total_words"
      ]
    },
    {
      "cell_type": "code",
      "execution_count": 35,
      "id": "475cda9a",
      "metadata": {
        "colab": {
          "base_uri": "https://localhost:8080/"
        },
        "id": "475cda9a",
        "outputId": "bd4da0ee-4eed-4bcf-de47-4a577403839d"
      },
      "outputs": [
        {
          "output_type": "execute_result",
          "data": {
            "text/plain": [
              "20"
            ]
          },
          "metadata": {},
          "execution_count": 35
        }
      ],
      "source": [
        "max_length"
      ]
    },
    {
      "cell_type": "code",
      "execution_count": 36,
      "id": "6bb150d5",
      "metadata": {
        "colab": {
          "base_uri": "https://localhost:8080/"
        },
        "id": "6bb150d5",
        "outputId": "4c75f31a-4c58-412f-f498-7bc7f57ea868"
      },
      "outputs": [
        {
          "output_type": "stream",
          "name": "stdout",
          "text": [
            "Model: \"sequential\"\n",
            "_________________________________________________________________\n",
            " Layer (type)                Output Shape              Param #   \n",
            "=================================================================\n",
            " embedding (Embedding)       (None, 20, 32)            361792    \n",
            "                                                                 \n",
            " lstm (LSTM)                 (None, 64)                24832     \n",
            "                                                                 \n",
            " dense (Dense)               (None, 1)                 65        \n",
            "                                                                 \n",
            "=================================================================\n",
            "Total params: 386,689\n",
            "Trainable params: 386,689\n",
            "Non-trainable params: 0\n",
            "_________________________________________________________________\n"
          ]
        }
      ],
      "source": [
        "EMBED_DIM=32\n",
        "LSTM_OUT=64\n",
        "\n",
        "model = Sequential()\n",
        "model.add(Embedding(total_words, EMBED_DIM, input_length = max_length))\n",
        "model.add(LSTM(LSTM_OUT))\n",
        "model.add(Dense(1,activation='sigmoid'))\n",
        "model.compile(optimizer='adam',loss='binary_crossentropy',metrics=['accuracy'])\n",
        "\n",
        "model.summary()"
      ]
    },
    {
      "cell_type": "code",
      "execution_count": 37,
      "id": "76f3475b",
      "metadata": {
        "id": "76f3475b"
      },
      "outputs": [],
      "source": [
        "checkpoint = ModelCheckpoint(\n",
        "    'models/LSTM.h5',\n",
        "    monitor='accuracy',\n",
        "    save_best_only=True,\n",
        "    verbose=1\n",
        ")"
      ]
    },
    {
      "cell_type": "code",
      "execution_count": 38,
      "id": "a747636c",
      "metadata": {
        "colab": {
          "base_uri": "https://localhost:8080/"
        },
        "id": "a747636c",
        "outputId": "396211bd-e236-4540-b7be-9e466a7cb9eb"
      },
      "outputs": [
        {
          "output_type": "stream",
          "name": "stdout",
          "text": [
            "Epoch 1/5\n",
            "64/64 [==============================] - ETA: 0s - loss: 0.6079 - accuracy: 0.7556\n",
            "Epoch 1: accuracy improved from -inf to 0.75559, saving model to models/LSTM.h5\n",
            "64/64 [==============================] - 6s 44ms/step - loss: 0.6079 - accuracy: 0.7556\n",
            "Epoch 2/5\n",
            "64/64 [==============================] - ETA: 0s - loss: 0.2524 - accuracy: 0.8106\n",
            "Epoch 2: accuracy improved from 0.75559 to 0.81065, saving model to models/LSTM.h5\n",
            "64/64 [==============================] - 3s 40ms/step - loss: 0.2524 - accuracy: 0.8106\n",
            "Epoch 3/5\n",
            "64/64 [==============================] - ETA: 0s - loss: -0.3684 - accuracy: 0.8627\n",
            "Epoch 3: accuracy improved from 0.81065 to 0.86265, saving model to models/LSTM.h5\n",
            "64/64 [==============================] - 3s 41ms/step - loss: -0.3684 - accuracy: 0.8627\n",
            "Epoch 4/5\n",
            "64/64 [==============================] - ETA: 0s - loss: -0.9765 - accuracy: 0.8649\n",
            "Epoch 4: accuracy improved from 0.86265 to 0.86485, saving model to models/LSTM.h5\n",
            "64/64 [==============================] - 3s 41ms/step - loss: -0.9765 - accuracy: 0.8649\n",
            "Epoch 5/5\n",
            "64/64 [==============================] - ETA: 0s - loss: -1.4631 - accuracy: 0.8712\n",
            "Epoch 5: accuracy improved from 0.86485 to 0.87120, saving model to models/LSTM.h5\n",
            "64/64 [==============================] - 5s 74ms/step - loss: -1.4631 - accuracy: 0.8712\n"
          ]
        },
        {
          "output_type": "execute_result",
          "data": {
            "text/plain": [
              "<keras.callbacks.History at 0x7f3c52be51c0>"
            ]
          },
          "metadata": {},
          "execution_count": 38
        }
      ],
      "source": [
        "model.fit(x_train, y_train, batch_size = 128, epochs = 5, callbacks=[checkpoint])"
      ]
    },
    {
      "cell_type": "code",
      "execution_count": 39,
      "id": "30c2eb13",
      "metadata": {
        "colab": {
          "base_uri": "https://localhost:8080/"
        },
        "id": "30c2eb13",
        "outputId": "4b053a4c-0f7f-4d3d-db92-6ddc9159144c"
      },
      "outputs": [
        {
          "output_type": "stream",
          "name": "stderr",
          "text": [
            "/usr/local/lib/python3.8/dist-packages/sklearn/linear_model/_logistic.py:814: ConvergenceWarning: lbfgs failed to converge (status=1):\n",
            "STOP: TOTAL NO. of ITERATIONS REACHED LIMIT.\n",
            "\n",
            "Increase the number of iterations (max_iter) or scale the data as shown in:\n",
            "    https://scikit-learn.org/stable/modules/preprocessing.html\n",
            "Please also refer to the documentation for alternative solver options:\n",
            "    https://scikit-learn.org/stable/modules/linear_model.html#logistic-regression\n",
            "  n_iter_i = _check_optimize_result(\n",
            "/usr/local/lib/python3.8/dist-packages/sklearn/linear_model/_logistic.py:814: ConvergenceWarning: lbfgs failed to converge (status=1):\n",
            "STOP: TOTAL NO. of ITERATIONS REACHED LIMIT.\n",
            "\n",
            "Increase the number of iterations (max_iter) or scale the data as shown in:\n",
            "    https://scikit-learn.org/stable/modules/preprocessing.html\n",
            "Please also refer to the documentation for alternative solver options:\n",
            "    https://scikit-learn.org/stable/modules/linear_model.html#logistic-regression\n",
            "  n_iter_i = _check_optimize_result(\n",
            "/usr/local/lib/python3.8/dist-packages/sklearn/linear_model/_logistic.py:814: ConvergenceWarning: lbfgs failed to converge (status=1):\n",
            "STOP: TOTAL NO. of ITERATIONS REACHED LIMIT.\n",
            "\n",
            "Increase the number of iterations (max_iter) or scale the data as shown in:\n",
            "    https://scikit-learn.org/stable/modules/preprocessing.html\n",
            "Please also refer to the documentation for alternative solver options:\n",
            "    https://scikit-learn.org/stable/modules/linear_model.html#logistic-regression\n",
            "  n_iter_i = _check_optimize_result(\n",
            "/usr/local/lib/python3.8/dist-packages/sklearn/linear_model/_logistic.py:814: ConvergenceWarning: lbfgs failed to converge (status=1):\n",
            "STOP: TOTAL NO. of ITERATIONS REACHED LIMIT.\n",
            "\n",
            "Increase the number of iterations (max_iter) or scale the data as shown in:\n",
            "    https://scikit-learn.org/stable/modules/preprocessing.html\n",
            "Please also refer to the documentation for alternative solver options:\n",
            "    https://scikit-learn.org/stable/modules/linear_model.html#logistic-regression\n",
            "  n_iter_i = _check_optimize_result(\n",
            "/usr/local/lib/python3.8/dist-packages/sklearn/linear_model/_logistic.py:814: ConvergenceWarning: lbfgs failed to converge (status=1):\n",
            "STOP: TOTAL NO. of ITERATIONS REACHED LIMIT.\n",
            "\n",
            "Increase the number of iterations (max_iter) or scale the data as shown in:\n",
            "    https://scikit-learn.org/stable/modules/preprocessing.html\n",
            "Please also refer to the documentation for alternative solver options:\n",
            "    https://scikit-learn.org/stable/modules/linear_model.html#logistic-regression\n",
            "  n_iter_i = _check_optimize_result(\n",
            "/usr/local/lib/python3.8/dist-packages/sklearn/linear_model/_logistic.py:814: ConvergenceWarning: lbfgs failed to converge (status=1):\n",
            "STOP: TOTAL NO. of ITERATIONS REACHED LIMIT.\n",
            "\n",
            "Increase the number of iterations (max_iter) or scale the data as shown in:\n",
            "    https://scikit-learn.org/stable/modules/preprocessing.html\n",
            "Please also refer to the documentation for alternative solver options:\n",
            "    https://scikit-learn.org/stable/modules/linear_model.html#logistic-regression\n",
            "  n_iter_i = _check_optimize_result(\n",
            "/usr/local/lib/python3.8/dist-packages/sklearn/linear_model/_logistic.py:814: ConvergenceWarning: lbfgs failed to converge (status=1):\n",
            "STOP: TOTAL NO. of ITERATIONS REACHED LIMIT.\n",
            "\n",
            "Increase the number of iterations (max_iter) or scale the data as shown in:\n",
            "    https://scikit-learn.org/stable/modules/preprocessing.html\n",
            "Please also refer to the documentation for alternative solver options:\n",
            "    https://scikit-learn.org/stable/modules/linear_model.html#logistic-regression\n",
            "  n_iter_i = _check_optimize_result(\n",
            "/usr/local/lib/python3.8/dist-packages/sklearn/linear_model/_logistic.py:814: ConvergenceWarning: lbfgs failed to converge (status=1):\n",
            "STOP: TOTAL NO. of ITERATIONS REACHED LIMIT.\n",
            "\n",
            "Increase the number of iterations (max_iter) or scale the data as shown in:\n",
            "    https://scikit-learn.org/stable/modules/preprocessing.html\n",
            "Please also refer to the documentation for alternative solver options:\n",
            "    https://scikit-learn.org/stable/modules/linear_model.html#logistic-regression\n",
            "  n_iter_i = _check_optimize_result(\n",
            "/usr/local/lib/python3.8/dist-packages/sklearn/linear_model/_logistic.py:814: ConvergenceWarning: lbfgs failed to converge (status=1):\n",
            "STOP: TOTAL NO. of ITERATIONS REACHED LIMIT.\n",
            "\n",
            "Increase the number of iterations (max_iter) or scale the data as shown in:\n",
            "    https://scikit-learn.org/stable/modules/preprocessing.html\n",
            "Please also refer to the documentation for alternative solver options:\n",
            "    https://scikit-learn.org/stable/modules/linear_model.html#logistic-regression\n",
            "  n_iter_i = _check_optimize_result(\n",
            "/usr/local/lib/python3.8/dist-packages/sklearn/linear_model/_logistic.py:814: ConvergenceWarning: lbfgs failed to converge (status=1):\n",
            "STOP: TOTAL NO. of ITERATIONS REACHED LIMIT.\n",
            "\n",
            "Increase the number of iterations (max_iter) or scale the data as shown in:\n",
            "    https://scikit-learn.org/stable/modules/preprocessing.html\n",
            "Please also refer to the documentation for alternative solver options:\n",
            "    https://scikit-learn.org/stable/modules/linear_model.html#logistic-regression\n",
            "  n_iter_i = _check_optimize_result(\n"
          ]
        },
        {
          "output_type": "stream",
          "name": "stdout",
          "text": [
            "LR: 0.758272 (0.009645)\n",
            "LDA: 0.755953 (0.010738)\n",
            "KNN: 0.721402 (0.012632)\n",
            "CART: 0.688683 (0.020480)\n",
            "BNB: 0.620071 (0.015517)\n",
            "RF: 0.784154 (0.007315)\n",
            "GBM: 0.773410 (0.009046)\n"
          ]
        },
        {
          "output_type": "stream",
          "name": "stderr",
          "text": [
            "/usr/local/lib/python3.8/dist-packages/sklearn/neural_network/_multilayer_perceptron.py:699: UserWarning: Training interrupted by user.\n",
            "  warnings.warn(\"Training interrupted by user.\")\n"
          ]
        },
        {
          "output_type": "stream",
          "name": "stdout",
          "text": [
            "NN: 0.632397 (0.048551)\n",
            "SVM: 0.760470 (0.009573)\n"
          ]
        }
      ],
      "source": [
        "\n",
        "from sklearn import model_selection\n",
        "from sklearn.metrics import classification_report\n",
        "from sklearn.metrics import confusion_matrix\n",
        "from sklearn.metrics import accuracy_score\n",
        "from sklearn.linear_model import LogisticRegression\n",
        "from sklearn.tree import DecisionTreeClassifier\n",
        "from sklearn.neighbors import KNeighborsClassifier\n",
        "from sklearn.discriminant_analysis import LinearDiscriminantAnalysis\n",
        "from sklearn.naive_bayes import  BernoulliNB\n",
        "from sklearn.ensemble import RandomForestClassifier\n",
        "from sklearn.svm import SVC\n",
        "from sklearn.ensemble import AdaBoostClassifier\n",
        "from sklearn.neural_network import MLPClassifier\n",
        "\n",
        "# Spot Check Algorithms\n",
        "models = []\n",
        "models.append(('LR', LogisticRegression()))\n",
        "models.append(('LDA', LinearDiscriminantAnalysis()))\n",
        "models.append(('KNN', KNeighborsClassifier()))\n",
        "models.append(('CART', DecisionTreeClassifier()))\n",
        "models.append(('BNB', BernoulliNB()))\n",
        "models.append(('RF', RandomForestClassifier()))\n",
        "models.append(('GBM', AdaBoostClassifier()))\n",
        "models.append(('NN', MLPClassifier()))\n",
        "models.append(('SVM', SVC()))\n",
        "\n",
        "# evaluate each model in turn\n",
        "results = []\n",
        "names = []\n",
        "for name, model in models:\n",
        "    kfold = model_selection.KFold(n_splits=10, random_state=None)\n",
        "    cv_results = model_selection.cross_val_score(model, x_train,y_train, cv=kfold)\n",
        "    results.append(cv_results)\n",
        "    names.append(name)\n",
        "    msg = \"%s: %f (%f)\" % (name, cv_results.mean(), cv_results.std())\n",
        "    print(msg)"
      ]
    },
    {
      "cell_type": "code",
      "execution_count": 40,
      "id": "a8b0d221",
      "metadata": {
        "id": "a8b0d221"
      },
      "outputs": [],
      "source": [
        "#result:  Accuracy and standard deviation of that.\n",
        "\n",
        "\n",
        "'''\n",
        "Logistic Regression (LR)                  : 0.758272 (0.009645)\n",
        "Linear Discriminant Analysis (LDA)        : 0.755953 (0.010738)\n",
        "K Neighbors Classifier (KNN)              : 0.721402 (0.012632)\n",
        "Decision Tree Classifier (CART)           : 0.688683 (0.020480)\n",
        "Bernoulli Naive Bayes (BNB)               : 0.620071 (0.015517)\n",
        "RandomForest Classifier (RF)              : 0.784154 (0.007315)\n",
        "AdaBoost Classifier (GBM)                 : 0.773410 (0.009046)\n",
        "Multi-Layer Perceptron Classifier (NN)    : 0.632397 (0.048551)\n",
        "Support Vector Machine (SVM)              : 0.760470 (0.009573)\n",
        "LSTM(Long Short-term Memory)              : loss: -1.4631 - accuracy: 0.8712\n",
        "\n",
        "'''\n"
      ]
    }
  ],
  "metadata": {
    "kernelspec": {
      "display_name": "Python 3 (ipykernel)",
      "language": "python",
      "name": "python3"
    },
    "language_info": {
      "codemirror_mode": {
        "name": "ipython",
        "version": 3
      },
      "file_extension": ".py",
      "mimetype": "text/x-python",
      "name": "python",
      "nbconvert_exporter": "python",
      "pygments_lexer": "ipython3",
      "version": "3.9.7"
    },
    "colab": {
      "provenance": [],
      "include_colab_link": true
    }
  },
  "nbformat": 4,
  "nbformat_minor": 5
}